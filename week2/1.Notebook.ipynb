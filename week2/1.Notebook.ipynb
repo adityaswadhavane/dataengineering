{
 "cells": [
  {
   "cell_type": "code",
   "execution_count": null,
   "id": "237f2158",
   "metadata": {},
   "outputs": [],
   "source": [
    "['VendorID','lpep_pickup_datetime','lpep_dropoff_datetime','store_and_fwd_flag','RatecodeID',\n",
    "'PULocationID','DOLocationID','passenger_count','trip_distance','fare_amount','extra','mta_tax',\n",
    "'tip_amount','tolls_amount','ehail_fee','improvement_surcharge','total_amount','payment_type',\n",
    "'trip_type','congestion_surcharge']"
   ]
  },
  {
   "cell_type": "code",
   "execution_count": null,
   "id": "b3204b66",
   "metadata": {},
   "outputs": [],
   "source": [
    "['VendorID','tpep_pickup_datetime','tpep_dropoff_datetime','passenger_count','trip_distance','RatecodeID',\n",
    " store_and_fwd_flag,PULocationID,DOLocationID,payment_type,fare_amount,extra,mta_tax,tip_amount,\n",
    " tolls_amount,improvement_surcharge,total_amount,congestion_surcharge]"
   ]
  },
  {
   "cell_type": "code",
   "execution_count": 1,
   "id": "4ce10051-2f58-446d-9a80-f1923bafa0bf",
   "metadata": {},
   "outputs": [],
   "source": [
    "import pandas as pd\n",
    "import os\n",
    "from pyarrow.parquet import ParquetFile\n",
    "import pyarrow as pa \n",
    "from sqlalchemy import create_engine\n",
    "import time"
   ]
  },
  {
   "cell_type": "code",
   "execution_count": 12,
   "id": "9d6fbf1f-adef-4deb-8519-05ea7090b72b",
   "metadata": {},
   "outputs": [
    {
     "name": "stdout",
     "output_type": "stream",
     "text": [
      "Connection failed: (psycopg2.OperationalError) could not translate host name \"postgres\" to address: Name or service not known\n",
      "\n",
      "(Background on this error at: https://sqlalche.me/e/20/e3q8)\n"
     ]
    }
   ],
   "source": [
    "user = 'kestra'\n",
    "password = 'k3str4'\n",
    "host = 'postgres'\n",
    "port = 5432\n",
    "db = 'kestra'\n",
    "engine = create_engine(f'postgresql://{user}:{password}@{host}:{port}/{db}')\n",
    "engine.connect()"
   ]
  },
  {
   "cell_type": "code",
   "execution_count": 13,
   "id": "e3f2fb3b-1160-4dac-a939-9b4db38d7b0b",
   "metadata": {},
   "outputs": [
    {
     "name": "stdout",
     "output_type": "stream",
     "text": [
      "Connection failed: (psycopg2.OperationalError) could not translate host name \"postgres\" to address: Name or service not known\n",
      "\n",
      "(Background on this error at: https://sqlalche.me/e/20/e3q8)\n"
     ]
    }
   ],
   "source": [
    "from sqlalchemy import create_engine\n",
    "\n",
    "user = 'kestra'\n",
    "password = 'k3str4'\n",
    "host = 'postgres'  # Matches the service name in docker-compose.yml\n",
    "port = 5432\n",
    "db = 'kestra'\n",
    "\n",
    "# Create the SQLAlchemy engine\n",
    "engine = create_engine(f'postgresql://{user}:{password}@{host}:{port}/{db}')\n",
    "\n",
    "# Test the connection\n",
    "try:\n",
    "    connection = engine.connect()\n",
    "    print(\"Connection successful!\")\n",
    "    connection.close()\n",
    "except Exception as e:\n",
    "    print(f\"Connection failed: {e}\")\n"
   ]
  },
  {
   "cell_type": "code",
   "execution_count": null,
   "id": "b964f9a0-c285-46c2-b6e3-cc7839014fdb",
   "metadata": {},
   "outputs": [],
   "source": []
  }
 ],
 "metadata": {
  "kernelspec": {
   "display_name": "Python 3 (ipykernel)",
   "language": "python",
   "name": "python3"
  },
  "language_info": {
   "codemirror_mode": {
    "name": "ipython",
    "version": 3
   },
   "file_extension": ".py",
   "mimetype": "text/x-python",
   "name": "python",
   "nbconvert_exporter": "python",
   "pygments_lexer": "ipython3",
   "version": "3.12.1"
  }
 },
 "nbformat": 4,
 "nbformat_minor": 5
}
