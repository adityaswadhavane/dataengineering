{
 "cells": [
  {
   "cell_type": "code",
   "execution_count": 76,
   "metadata": {},
   "outputs": [],
   "source": [
    "import pandas as pd\n",
    "import os\n",
    "from pyarrow.parquet import ParquetFile\n",
    "import pyarrow as pa \n",
    "from sqlalchemy import create_engine\n",
    "import time"
   ]
  },
  {
   "cell_type": "code",
   "execution_count": 42,
   "metadata": {},
   "outputs": [
    {
     "data": {
      "text/plain": [
       "['Dockerfile',\n",
       " '.ipynb_checkpoints',\n",
       " 'yellow_tripdata_2024-01.parquet',\n",
       " 'ny_taxi_postgres_data',\n",
       " 'Notebook1.ipynb',\n",
       " 'pipeline.py',\n",
       " 'yellow_tripdata_2024-01.csv']"
      ]
     },
     "execution_count": 42,
     "metadata": {},
     "output_type": "execute_result"
    }
   ],
   "source": [
    "os.listdir('/workspaces/dataengineering/week1')"
   ]
  },
  {
   "cell_type": "code",
   "execution_count": 50,
   "metadata": {},
   "outputs": [],
   "source": [
    "file = ParquetFile( 'yellow_tripdata_2024-01.parquet')\n",
    "df = next(file.iter_batches(batch_size=10)).to_pandas()\n",
    "df_iter = file.iter_batches(batch_size=100000)"
   ]
  },
  {
   "cell_type": "code",
   "execution_count": 72,
   "metadata": {},
   "outputs": [
    {
     "data": {
      "text/plain": [
       "0"
      ]
     },
     "execution_count": 72,
     "metadata": {},
     "output_type": "execute_result"
    }
   ],
   "source": [
    "df.head(0).to_sql(name='ny_taxi_data',con=engine, if_exists='replace')"
   ]
  },
  {
   "cell_type": "code",
   "execution_count": 69,
   "metadata": {},
   "outputs": [
    {
     "name": "stdout",
     "output_type": "stream",
     "text": [
      "\n",
      "CREATE TABLE yellow_taxi_data (\n",
      "\t\"VendorID\" INTEGER, \n",
      "\ttpep_pickup_datetime TIMESTAMP WITHOUT TIME ZONE, \n",
      "\ttpep_dropoff_datetime TIMESTAMP WITHOUT TIME ZONE, \n",
      "\tpassenger_count FLOAT(53), \n",
      "\ttrip_distance FLOAT(53), \n",
      "\t\"RatecodeID\" FLOAT(53), \n",
      "\tstore_and_fwd_flag TEXT, \n",
      "\t\"PULocationID\" INTEGER, \n",
      "\t\"DOLocationID\" INTEGER, \n",
      "\tpayment_type BIGINT, \n",
      "\tfare_amount FLOAT(53), \n",
      "\textra FLOAT(53), \n",
      "\tmta_tax FLOAT(53), \n",
      "\ttip_amount FLOAT(53), \n",
      "\ttolls_amount FLOAT(53), \n",
      "\timprovement_surcharge FLOAT(53), \n",
      "\ttotal_amount FLOAT(53), \n",
      "\tcongestion_surcharge FLOAT(53), \n",
      "\t\"Airport_fee\" FLOAT(53)\n",
      ")\n",
      "\n",
      "\n"
     ]
    }
   ],
   "source": [
    "print(pd.io.sql.get_schema(df, name='yellow_taxi_data', con=engine))"
   ]
  },
  {
   "cell_type": "code",
   "execution_count": 68,
   "metadata": {},
   "outputs": [
    {
     "data": {
      "text/plain": [
       "<sqlalchemy.engine.base.Connection at 0x7e504d90d2b0>"
      ]
     },
     "execution_count": 68,
     "metadata": {},
     "output_type": "execute_result"
    }
   ],
   "source": []
  },
  {
   "cell_type": "code",
   "execution_count": 73,
   "metadata": {},
   "outputs": [
    {
     "name": "stdout",
     "output_type": "stream",
     "text": [
      "After Iteration no 1 is 100000\n",
      "After Iteration no 2 is 200000\n",
      "After Iteration no 3 is 300000\n",
      "After Iteration no 4 is 400000\n",
      "After Iteration no 5 is 500000\n",
      "After Iteration no 6 is 600000\n",
      "After Iteration no 7 is 700000\n",
      "After Iteration no 8 is 800000\n",
      "After Iteration no 9 is 900000\n",
      "After Iteration no 10 is 1000000\n",
      "After Iteration no 11 is 1100000\n",
      "After Iteration no 12 is 1200000\n",
      "After Iteration no 13 is 1300000\n",
      "After Iteration no 14 is 1400000\n",
      "After Iteration no 15 is 1500000\n",
      "After Iteration no 16 is 1600000\n",
      "After Iteration no 17 is 1700000\n",
      "After Iteration no 18 is 1800000\n",
      "After Iteration no 19 is 1900000\n",
      "After Iteration no 20 is 2000000\n",
      "After Iteration no 21 is 2100000\n",
      "After Iteration no 22 is 2200000\n",
      "After Iteration no 23 is 2300000\n",
      "After Iteration no 24 is 2400000\n",
      "After Iteration no 25 is 2500000\n",
      "After Iteration no 26 is 2600000\n",
      "After Iteration no 27 is 2700000\n",
      "After Iteration no 28 is 2800000\n",
      "After Iteration no 29 is 2900000\n",
      "After Iteration no 29 is 2964624\n"
     ]
    }
   ],
   "source": [
    "user = 'root'\n",
    "password = 'root'\n",
    "host = 'localhost'\n",
    "port = 5432\n",
    "db = 'ny_taxi'\n",
    "\n",
    "file = ParquetFile( 'yellow_tripdata_2024-01.parquet')\n",
    "df_iter = file.iter_batches(batch_size=100000)\n",
    "count = 0\n",
    "engine = create_engine(f'postgresql://{user}:{password}@{host}:{port}/{db}')\n",
    "engine.connect()\n",
    "for batch in df_iter:\n",
    "    df = batch.to_pandas()\n",
    "    df.to_sql(name='ny_taxi_data',con=engine, if_exists='append')\n",
    "    count += df.shape[0]\n",
    "    print(f\"After Iteration no {int(count/100000)} is {count}\")"
   ]
  },
  {
   "cell_type": "code",
   "execution_count": 74,
   "metadata": {},
   "outputs": [
    {
     "data": {
      "text/plain": [
       "(2964624, 19)"
      ]
     },
     "execution_count": 74,
     "metadata": {},
     "output_type": "execute_result"
    }
   ],
   "source": [
    "pd.read_parquet(\"yellow_tripdata_2024-01.parquet\").shape"
   ]
  },
  {
   "cell_type": "code",
   "execution_count": 79,
   "metadata": {},
   "outputs": [
    {
     "data": {
      "text/plain": [
       "3.314018249511719e-05"
      ]
     },
     "execution_count": 79,
     "metadata": {},
     "output_type": "execute_result"
    }
   ],
   "source": [
    "start_time = time.time()\n",
    "time.time() - start_time "
   ]
  },
  {
   "cell_type": "code",
   "execution_count": 86,
   "metadata": {},
   "outputs": [],
   "source": [
    "def load_data(config):\n",
    "    # user = config.user\n",
    "    # password = config.password\n",
    "    # host = config.host\n",
    "    # port = config.port\n",
    "    # db = config.db\n",
    "    # url = config.url\n",
    "    # file_name = config.file_name\n",
    "\n",
    "    user = 'root'\n",
    "    password = 'root'\n",
    "    host = 'localhost'\n",
    "    port = 5432\n",
    "    db = 'ny_taxi'\n",
    "    url=''\n",
    "    file_name = 'output.parquet'\n",
    "    \n",
    "    os.system(f'wget {url} -O {file_name}')\n",
    "\n",
    "    if '.parquet' in file_name:\n",
    "        file = ParquetFile(file_name)\n",
    "        df_iter = file.iter_batches(batch_size=100000)\n",
    "    engine = create_engine(f'postgresql://{user}:{password}@{host}:{port}/{db}')\n",
    "    engine.connect()\n",
    "    count = 0\n",
    "    start_time = time.time()\n",
    "    inter_time_save = time.time()\n",
    "    for batch in df_iter:\n",
    "        df = batch.to_pandas()\n",
    "        df.to_sql(name='ny_taxi_data',con=engine, if_exists='append')\n",
    "        count += df.shape[0]\n",
    "        inter_time = time.time()\n",
    "        print(f\"After Iteration no {int(count/100000)} is {count}. This Iteration took total {inter_time - inter_time_save} sec\")\n",
    "    print(f\"Final Execution time is {time.time() - start_time} Sec\")\n",
    "    "
   ]
  },
  {
   "cell_type": "code",
   "execution_count": 87,
   "metadata": {},
   "outputs": [
    {
     "name": "stdout",
     "output_type": "stream",
     "text": [
      "After Iteration no 1 is 100000. This Iteration took total 8.823391437530518 sec\n",
      "After Iteration no 2 is 200000. This Iteration took total 17.782193660736084 sec\n",
      "After Iteration no 3 is 300000. This Iteration took total 26.87475562095642 sec\n",
      "After Iteration no 4 is 400000. This Iteration took total 36.0573296546936 sec\n",
      "After Iteration no 5 is 500000. This Iteration took total 45.20997881889343 sec\n",
      "After Iteration no 6 is 600000. This Iteration took total 53.92047572135925 sec\n",
      "After Iteration no 7 is 700000. This Iteration took total 63.84331703186035 sec\n",
      "After Iteration no 8 is 800000. This Iteration took total 73.02567625045776 sec\n",
      "After Iteration no 9 is 900000. This Iteration took total 81.7416205406189 sec\n",
      "After Iteration no 10 is 1000000. This Iteration took total 91.05734419822693 sec\n",
      "After Iteration no 11 is 1100000. This Iteration took total 100.41434025764465 sec\n",
      "After Iteration no 12 is 1200000. This Iteration took total 109.25502800941467 sec\n",
      "After Iteration no 13 is 1300000. This Iteration took total 119.11567950248718 sec\n",
      "After Iteration no 14 is 1400000. This Iteration took total 128.74905562400818 sec\n",
      "After Iteration no 15 is 1500000. This Iteration took total 137.58131766319275 sec\n",
      "After Iteration no 16 is 1600000. This Iteration took total 147.0605685710907 sec\n",
      "After Iteration no 17 is 1700000. This Iteration took total 156.63603258132935 sec\n",
      "After Iteration no 18 is 1800000. This Iteration took total 165.80843329429626 sec\n",
      "After Iteration no 19 is 1900000. This Iteration took total 175.5830955505371 sec\n",
      "After Iteration no 20 is 2000000. This Iteration took total 185.4977617263794 sec\n",
      "After Iteration no 21 is 2100000. This Iteration took total 195.19065618515015 sec\n",
      "After Iteration no 22 is 2200000. This Iteration took total 205.3050947189331 sec\n",
      "After Iteration no 23 is 2300000. This Iteration took total 214.46917343139648 sec\n",
      "After Iteration no 24 is 2400000. This Iteration took total 224.44146585464478 sec\n",
      "After Iteration no 25 is 2500000. This Iteration took total 233.93798637390137 sec\n",
      "After Iteration no 26 is 2600000. This Iteration took total 243.634094953537 sec\n",
      "After Iteration no 27 is 2700000. This Iteration took total 253.12737774848938 sec\n",
      "After Iteration no 28 is 2800000. This Iteration took total 262.17328238487244 sec\n",
      "After Iteration no 29 is 2900000. This Iteration took total 270.8685111999512 sec\n",
      "After Iteration no 29 is 2964624. This Iteration took total 275.89275550842285 sec\n",
      "Final Execution time is 275.89324021339417 Sec\n"
     ]
    }
   ],
   "source": [
    "load_data({})"
   ]
  },
  {
   "cell_type": "code",
   "execution_count": null,
   "metadata": {},
   "outputs": [],
   "source": []
  }
 ],
 "metadata": {
  "kernelspec": {
   "display_name": "Python 3 (ipykernel)",
   "language": "python",
   "name": "python3"
  },
  "language_info": {
   "codemirror_mode": {
    "name": "ipython",
    "version": 3
   },
   "file_extension": ".py",
   "mimetype": "text/x-python",
   "name": "python",
   "nbconvert_exporter": "python",
   "pygments_lexer": "ipython3",
   "version": "3.12.1"
  }
 },
 "nbformat": 4,
 "nbformat_minor": 4
}
